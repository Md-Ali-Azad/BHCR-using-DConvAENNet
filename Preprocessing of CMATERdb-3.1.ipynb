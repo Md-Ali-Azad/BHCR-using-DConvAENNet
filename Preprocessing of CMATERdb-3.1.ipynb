{
 "cells": [
  {
   "cell_type": "code",
   "execution_count": 1,
   "metadata": {},
   "outputs": [],
   "source": [
    "import os,cv2\n",
    "import numpy as np"
   ]
  },
  {
   "cell_type": "code",
   "execution_count": 2,
   "metadata": {},
   "outputs": [],
   "source": [
    "os.environ['TF_CPP_MIN_LOG_LEVEL'] = '3'\n",
    "data_path='C:/Users/admin/Music/CMATERdb/in'\n",
    "data_dir_list = os.listdir(data_path)\n",
    "img_rows=28\n",
    "img_cols=28"
   ]
  },
  {
   "cell_type": "code",
   "execution_count": null,
   "metadata": {},
   "outputs": [],
   "source": [
    "for dataset in data_dir_list:\n",
    "    img_list=os.listdir(data_path+'/'+ dataset)\n",
    "    print ('Loading the images of dataset-'+'{}\\n'.format(dataset))\n",
    "    for img in img_list:\n",
    "        input_img=cv2.imread(data_path + '/'+ dataset + '/'+ img ,cv2.IMREAD_UNCHANGED)\n",
    "        grayimg = cv2.cvtColor(input_img, cv2.COLOR_BGR2GRAY)\n",
    "        step_one=cv2.bitwise_not(grayimg)\n",
    "        \n",
    "        step_two_one = cv2.fastNlMeansDenoising(step_one,50.0, 20, 20)\n",
    "        _, step_two_two = cv2.threshold(step_two_one, 120, 255, cv2.THRESH_TOZERO)\n",
    "        step_three_one=cv2.GaussianBlur(step_two_two , (3, 3), 3)\n",
    "        \n",
    "        kernelp = np.array([[0, 0, 0], [0, 0, 0], [0, 0, 0]], np.uint8)\n",
    "        step_three_two = cv2.dilate(step_three_one, kernelp)\n",
    "        \n",
    "        _,step_four = cv2.threshold(step_two_one, 0, 255,cv2.THRESH_BINARY+cv2.THRESH_OTSU,step_three_two)\n",
    "        \n",
    "        paths='C:/Users/admin/Music/CMATERdb/out'\n",
    "        \n",
    "        if not os.path.exists(paths+'/'+dataset):\n",
    "            os.mkdir(paths+'/'+dataset)\n",
    "        cv2.imwrite(os.path.join(paths+'/'+dataset ,img),cv2.resize(step_four,(img_rows,img_cols),interpolation = cv2.INTER_AREA))"
   ]
  }
 ],
 "metadata": {
  "kernelspec": {
   "display_name": "Python 3",
   "language": "python",
   "name": "python3"
  },
  "language_info": {
   "codemirror_mode": {
    "name": "ipython",
    "version": 3
   },
   "file_extension": ".py",
   "mimetype": "text/x-python",
   "name": "python",
   "nbconvert_exporter": "python",
   "pygments_lexer": "ipython3",
   "version": "3.6.0"
  }
 },
 "nbformat": 4,
 "nbformat_minor": 2
}
